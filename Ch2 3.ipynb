{
 "cells": [
  {
   "cell_type": "code",
   "execution_count": 172,
   "id": "3e8ca914",
   "metadata": {},
   "outputs": [],
   "source": [
    "import numpy as np\n",
    "from scipy import stats\n",
    "import matplotlib.pyplot as plt"
   ]
  },
  {
   "cell_type": "markdown",
   "id": "d291d894",
   "metadata": {},
   "source": [
    "# Association"
   ]
  },
  {
   "cell_type": "code",
   "execution_count": 5,
   "id": "9967f210",
   "metadata": {},
   "outputs": [
    {
     "data": {
      "text/plain": [
       "array([ True, False,  True, False, False,  True,  True, False,  True,\n",
       "       False,  True, False, False, False, False, False, False, False,\n",
       "       False, False,  True, False, False,  True, False, False, False,\n",
       "       False, False, False, False, False, False, False, False, False,\n",
       "        True, False, False, False, False,  True,  True, False, False,\n",
       "        True,  True, False, False,  True,  True, False, False,  True,\n",
       "       False, False, False,  True,  True,  True, False,  True,  True,\n",
       "       False,  True, False, False,  True, False, False,  True, False,\n",
       "       False,  True,  True, False, False,  True, False,  True, False,\n",
       "       False, False, False,  True, False, False, False, False, False,\n",
       "       False,  True, False, False,  True, False, False,  True,  True,\n",
       "       False])"
      ]
     },
     "execution_count": 5,
     "metadata": {},
     "output_type": "execute_result"
    }
   ],
   "source": [
    "stats.uniform().rvs(100)>.61"
   ]
  },
  {
   "cell_type": "code",
   "execution_count": 69,
   "id": "30c70cce",
   "metadata": {},
   "outputs": [],
   "source": [
    "class BookSCM:\n",
    "    def __init__(self, random_seed = None):\n",
    "        self.random_seed = random_seed\n",
    "        self.u_0 = stats.uniform()\n",
    "        self.u_1 = stats.norm()\n",
    "        \n",
    "    def sample(self, sample_size = 100):\n",
    "        if self.random_seed:\n",
    "            np.random.seed(self.random_seed)\n",
    "        \n",
    "        u_0 = self.u_0.rvs(sample_size)\n",
    "        u_1 = self.u_1.rvs(sample_size)\n",
    "        \n",
    "        a = u_0 > .61\n",
    "        b = (a + .5 * u_1) > .2  # 根據 a 的與否，有一定的機率買 b， a, b 相關\n",
    "        b = u_1 > .8  #  a, b 無相關\n",
    "        return a,b\n",
    "            \n",
    "    "
   ]
  },
  {
   "cell_type": "code",
   "execution_count": 70,
   "id": "bce6cee3",
   "metadata": {},
   "outputs": [],
   "source": [
    "scm = BookSCM(random_seed=45)"
   ]
  },
  {
   "cell_type": "code",
   "execution_count": 71,
   "id": "0cd30059",
   "metadata": {},
   "outputs": [],
   "source": [
    "buy_book_a, buy_book_b = scm.sample(1000000)"
   ]
  },
  {
   "cell_type": "code",
   "execution_count": 72,
   "id": "7ae24887",
   "metadata": {},
   "outputs": [
    {
     "data": {
      "text/plain": [
       "0.39098487859346315"
      ]
     },
     "execution_count": 72,
     "metadata": {},
     "output_type": "execute_result"
    }
   ],
   "source": [
    "buy_book_a, buy_book_b\n",
    "\n",
    "# p(buy a|buy b) = P(A and B)/P(B)\n",
    "# buy_book_a status given buy b is true\n",
    "buy_book_a[buy_book_b].sum() / len(buy_book_a[buy_book_b])\n"
   ]
  },
  {
   "cell_type": "code",
   "execution_count": 73,
   "id": "565818c3",
   "metadata": {},
   "outputs": [
    {
     "data": {
      "text/plain": [
       "0.3909848785934632"
      ]
     },
     "execution_count": 73,
     "metadata": {},
     "output_type": "execute_result"
    }
   ],
   "source": [
    "# P(A and B)\n",
    "p_a_and_b = (buy_book_a & buy_book_b).sum()/len(buy_book_a)  # 0.37\n",
    "\n",
    "# P(B)\n",
    "p_b = buy_book_b.sum()/len(buy_book_b)  # 0.58\n",
    "\n",
    "\n",
    "# P(A) \n",
    "p_a = buy_book_a.sum()/len(buy_book_a)  \n",
    "\n",
    "# P(A|B) = P(A and B)/P(B)\n",
    "p_a_and_b / p_b"
   ]
  },
  {
   "cell_type": "code",
   "execution_count": 74,
   "id": "1c9c9229",
   "metadata": {},
   "outputs": [
    {
     "data": {
      "text/plain": [
       "0.391051"
      ]
     },
     "execution_count": 74,
     "metadata": {},
     "output_type": "execute_result"
    }
   ],
   "source": [
    "# if A,B totally independent, then P(A|B) = P(A) \n",
    "\n",
    "# \n",
    "buy_book_a.sum()/len(buy_book_a)"
   ]
  },
  {
   "cell_type": "code",
   "execution_count": 75,
   "id": "069f7053",
   "metadata": {},
   "outputs": [
    {
     "data": {
      "text/plain": [
       "0.211356"
      ]
     },
     "execution_count": 75,
     "metadata": {},
     "output_type": "execute_result"
    }
   ],
   "source": [
    "p_b"
   ]
  },
  {
   "cell_type": "markdown",
   "id": "106d5c13",
   "metadata": {},
   "source": [
    "### intervention"
   ]
  },
  {
   "cell_type": "code",
   "execution_count": 157,
   "id": "39826dce",
   "metadata": {},
   "outputs": [
    {
     "name": "stdout",
     "output_type": "stream",
     "text": [
      "0.9776350497880795 3.5878300257959274e-68\n",
      "-0.1391795389728171 0.8666840196317493\n",
      "-0.6204932266840709 22.666687799104317\n"
     ]
    }
   ],
   "source": [
    "np.random.seed(45)\n",
    "\n",
    "# original\n",
    "sample_size = 100\n",
    "u_0 = np.random.randn(sample_size)\n",
    "u_1 = np.random.randn(sample_size)\n",
    "\n",
    "a = u_0\n",
    "b = 5 *a + u_1\n",
    "\n",
    "r, p = stats.pearsonr(a,b)\n",
    "\n",
    "print(r,p)\n",
    "print(a.mean(), a.var())\n",
    "print(b.mean(), b.var())"
   ]
  },
  {
   "cell_type": "code",
   "execution_count": 158,
   "id": "5a25fc72",
   "metadata": {},
   "outputs": [
    {
     "name": "stdout",
     "output_type": "stream",
     "text": [
      "nan nan\n",
      "1.5 0.0\n",
      "7.575404468180015 1.0025411156718493\n"
     ]
    }
   ],
   "source": [
    "# intervene a\n",
    "a = np.array([1.5]*sample_size)\n",
    "b = 5 *a + u_1\n",
    "\n",
    "r, p = stats.pearsonr(a,b)\n",
    "\n",
    "print(r,p)\n",
    "print(a.mean(), a.var())\n",
    "print(b.mean(), b.var())  \n",
    "\n",
    "# 假設我們不知道這個模型，就單純藉由 intervention 收集資料\n",
    "# mean and variance of A and B 改變了，表示 b 因為 a 的改變，而受到了改變\n",
    "# ther is causal link from A to B\n",
    "\n",
    "# rp showed nan -> Zero variance in one or both arrays\n",
    "# 因為 A 沒有 variance，所以無法表達出 covary of A and B\n",
    "# Correlation drops to near zero because  A  is constant (no variability), so it cannot covary with  B ."
   ]
  },
  {
   "cell_type": "code",
   "execution_count": 159,
   "id": "05888db9",
   "metadata": {},
   "outputs": [
    {
     "name": "stdout",
     "output_type": "stream",
     "text": [
      "-0.02286603910467949 0.82134525059407\n",
      "-0.1391795389728171 0.8666840196317493\n",
      "0.18551970084448796 0.9949738521691471\n"
     ]
    }
   ],
   "source": [
    "# intervene b\n",
    "a = u_0\n",
    "b = np.random.randn(sample_size)\n",
    "\n",
    "r, p = stats.pearsonr(a,b)\n",
    "\n",
    "print(r,p)\n",
    "print(a.mean(), a.var())\n",
    "print(b.mean(), b.var())\n",
    "\n",
    "# Correlation drop to near zero, because  B  is now independent of  A . \n",
    "# Intervening on  B  does not affect  A .\n",
    "# A 的 mean 以及 variance 沒有因為 B 的改變而改變\n",
    "\n",
    "# 表示 no causal link from  B  to  A ."
   ]
  },
  {
   "cell_type": "code",
   "execution_count": null,
   "id": "3cdb811e",
   "metadata": {},
   "outputs": [],
   "source": []
  },
  {
   "cell_type": "code",
   "execution_count": null,
   "id": "97c09c2f",
   "metadata": {},
   "outputs": [],
   "source": []
  },
  {
   "cell_type": "code",
   "execution_count": 141,
   "id": "7a267a5a",
   "metadata": {},
   "outputs": [],
   "source": [
    "scm2 = BookSCM2(45)"
   ]
  },
  {
   "cell_type": "code",
   "execution_count": 142,
   "id": "22618781",
   "metadata": {},
   "outputs": [],
   "source": [
    "a, b = scm2.sample(100) "
   ]
  },
  {
   "cell_type": "code",
   "execution_count": 143,
   "id": "a625251e",
   "metadata": {},
   "outputs": [
    {
     "name": "stderr",
     "output_type": "stream",
     "text": [
      "/opt/anaconda3/lib/python3.11/site-packages/scipy/stats/_stats_py.py:4781: ConstantInputWarning: An input array is constant; the correlation coefficient is not defined.\n",
      "  warnings.warn(stats.ConstantInputWarning(msg))\n"
     ]
    },
    {
     "data": {
      "text/plain": [
       "nan"
      ]
     },
     "execution_count": 143,
     "metadata": {},
     "output_type": "execute_result"
    }
   ],
   "source": [
    "r, p  = stats.pearsonr(a,b)\n",
    "r"
   ]
  },
  {
   "cell_type": "code",
   "execution_count": 125,
   "id": "474c2037",
   "metadata": {},
   "outputs": [
    {
     "data": {
      "text/plain": [
       "1.0025411156718493"
      ]
     },
     "execution_count": 125,
     "metadata": {},
     "output_type": "execute_result"
    }
   ],
   "source": [
    "b.var()"
   ]
  },
  {
   "cell_type": "code",
   "execution_count": null,
   "id": "93f3c683",
   "metadata": {},
   "outputs": [],
   "source": []
  },
  {
   "cell_type": "markdown",
   "id": "1cd28f12",
   "metadata": {},
   "source": [
    "# Correlation and causation"
   ]
  },
  {
   "cell_type": "code",
   "execution_count": 170,
   "id": "bc9b311e",
   "metadata": {},
   "outputs": [],
   "source": [
    "sample_size = 100000\n",
    "x = np.random.uniform(-2,2,sample_size)  # x~U(-2,2)\n",
    "y = x*x + 0.2 * np.random.normal(0,1,sample_size)"
   ]
  },
  {
   "cell_type": "code",
   "execution_count": 174,
   "id": "de222f9d",
   "metadata": {},
   "outputs": [
    {
     "data": {
      "text/plain": [
       "<matplotlib.collections.PathCollection at 0x152b962d0>"
      ]
     },
     "execution_count": 174,
     "metadata": {},
     "output_type": "execute_result"
    },
    {
     "data": {
      "image/png": "[encoded data removed]",
      "text/plain": [
       "<Figure size 640x480 with 1 Axes>"
      ]
     },
     "metadata": {},
     "output_type": "display_data"
    }
   ],
   "source": [
    "plt.scatter(x,y,alpha=.1)"
   ]
  },
  {
   "cell_type": "code",
   "execution_count": 176,
   "id": "c35fdfdb",
   "metadata": {},
   "outputs": [
    {
     "data": {
      "text/plain": [
       "PearsonRResult(statistic=0.006680012619176792, pvalue=0.03465192980488826)"
      ]
     },
     "execution_count": 176,
     "metadata": {},
     "output_type": "execute_result"
    }
   ],
   "source": [
    "stats.pearsonr(x,y)  # pearson correlation = 0"
   ]
  },
  {
   "cell_type": "code",
   "execution_count": null,
   "id": "51ed349e",
   "metadata": {},
   "outputs": [],
   "source": []
  },
  {
   "cell_type": "markdown",
   "id": "77df8aa2",
   "metadata": {},
   "source": [
    "# Counterfactuals"
   ]
  },
  {
   "cell_type": "code",
   "execution_count": 191,
   "id": "a5c23d4d",
   "metadata": {},
   "outputs": [],
   "source": [
    "# model\n",
    "# T ~ t\n",
    "# Y ~ TU + (T-1)(U-1)\n",
    "\n",
    "class CounterFac:\n",
    "    def abduct(self, t, y):\n",
    "        # from observed y and known t, get u\n",
    "        u = (y+t-1)/(2*t-1)\n",
    "        return u\n",
    "    \n",
    "    def modify(self, t):\n",
    "        # return model under counterfactual status \n",
    "        return lambda u: t*u + (t-1)*(u-1)\n",
    "    \n",
    "    def predict(self, t, u):\n",
    "        return self.modify(t)(u)\n",
    "    \n",
    "    \n"
   ]
  },
  {
   "cell_type": "code",
   "execution_count": 198,
   "id": "b6b14e3c",
   "metadata": {},
   "outputs": [
    {
     "data": {
      "text/plain": [
       "0.0"
      ]
     },
     "execution_count": 198,
     "metadata": {},
     "output_type": "execute_result"
    }
   ],
   "source": [
    "coffee = CounterFac()\n",
    "u = coffee.abduct(1,1)  # get u value\n",
    "coffee.predict(t=0,u=u)  # undeer t=0 status, get the y value when u=u\n"
   ]
  },
  {
   "cell_type": "markdown",
   "id": "184c3317",
   "metadata": {},
   "source": [
    "# Linear regression"
   ]
  },
  {
   "cell_type": "code",
   "execution_count": 230,
   "id": "6b353e26",
   "metadata": {},
   "outputs": [],
   "source": [
    "import numpy as np\n",
    "import statsmodels.api as sm\n",
    "import matplotlib.pyplot as plt\n",
    "\n",
    "np.random.seed(45)\n",
    "n_samples = 5000"
   ]
  },
  {
   "cell_type": "code",
   "execution_count": 220,
   "id": "29dab4e2",
   "metadata": {},
   "outputs": [],
   "source": [
    "alpha = 1.12\n",
    "beta = 0.93\n",
    "epsilon = np.random.normal(size=n_samples)\n",
    "# epsilon = np.random.normal(n_samples)  # the same"
   ]
  },
  {
   "cell_type": "code",
   "execution_count": 221,
   "id": "ec876c8b",
   "metadata": {},
   "outputs": [
    {
     "data": {
      "text/plain": [
       "array([ 0.11530002, -0.43617719, -0.54138887, ..., -0.03732549,\n",
       "       -0.23686068, -1.79838402])"
      ]
     },
     "execution_count": 221,
     "metadata": {},
     "output_type": "execute_result"
    }
   ],
   "source": [
    "np.random.randn(n_samples)"
   ]
  },
  {
   "cell_type": "code",
   "execution_count": 224,
   "id": "60521b04",
   "metadata": {},
   "outputs": [],
   "source": [
    "# data generating process\n",
    "X = np.random.normal(size=n_samples)\n",
    "y = alpha + beta*X + 0.5*epsilon\n"
   ]
  },
  {
   "cell_type": "code",
   "execution_count": 232,
   "id": "845542d3",
   "metadata": {},
   "outputs": [],
   "source": [
    "X_add_constant = sm.add_constant(X)  # add constant\n",
    "model = sm.OLS(y, X_add_constant)\n",
    "fitted_model = model.fit()"
   ]
  },
  {
   "cell_type": "code",
   "execution_count": 236,
   "id": "bf4e6d04",
   "metadata": {},
   "outputs": [],
   "source": [
    "# predicted y\n",
    "y_predicted = fitted_model.predict(X_add_constant)"
   ]
  },
  {
   "cell_type": "code",
   "execution_count": 233,
   "id": "d53f0818",
   "metadata": {
    "scrolled": true
   },
   "outputs": [
    {
     "data": {
      "text/html": [
       "<table class=\"simpletable\">\n",
       "<caption>OLS Regression Results</caption>\n",
       "<tr>\n",
       "  <th>Dep. Variable:</th>            <td>y</td>        <th>  R-squared:         </th> <td>   0.775</td> \n",
       "</tr>\n",
       "<tr>\n",
       "  <th>Model:</th>                   <td>OLS</td>       <th>  Adj. R-squared:    </th> <td>   0.775</td> \n",
       "</tr>\n",
       "<tr>\n",
       "  <th>Method:</th>             <td>Least Squares</td>  <th>  F-statistic:       </th> <td>1.718e+04</td>\n",
       "</tr>\n",
       "<tr>\n",
       "  <th>Date:</th>             <td>Mon, 04 Nov 2024</td> <th>  Prob (F-statistic):</th>  <td>  0.00</td>  \n",
       "</tr>\n",
       "<tr>\n",
       "  <th>Time:</th>                 <td>02:53:04</td>     <th>  Log-Likelihood:    </th> <td> -3615.7</td> \n",
       "</tr>\n",
       "<tr>\n",
       "  <th>No. Observations:</th>      <td>  5000</td>      <th>  AIC:               </th> <td>   7235.</td> \n",
       "</tr>\n",
       "<tr>\n",
       "  <th>Df Residuals:</th>          <td>  4998</td>      <th>  BIC:               </th> <td>   7248.</td> \n",
       "</tr>\n",
       "<tr>\n",
       "  <th>Df Model:</th>              <td>     1</td>      <th>                     </th>     <td> </td>    \n",
       "</tr>\n",
       "<tr>\n",
       "  <th>Covariance Type:</th>      <td>nonrobust</td>    <th>                     </th>     <td> </td>    \n",
       "</tr>\n",
       "</table>\n",
       "<table class=\"simpletable\">\n",
       "<tr>\n",
       "    <td></td>       <th>coef</th>     <th>std err</th>      <th>t</th>      <th>P>|t|</th>  <th>[0.025</th>    <th>0.975]</th>  \n",
       "</tr>\n",
       "<tr>\n",
       "  <th>const</th> <td>    1.1244</td> <td>    0.007</td> <td>  159.401</td> <td> 0.000</td> <td>    1.111</td> <td>    1.138</td>\n",
       "</tr>\n",
       "<tr>\n",
       "  <th>x1</th>    <td>    0.9319</td> <td>    0.007</td> <td>  131.083</td> <td> 0.000</td> <td>    0.918</td> <td>    0.946</td>\n",
       "</tr>\n",
       "</table>\n",
       "<table class=\"simpletable\">\n",
       "<tr>\n",
       "  <th>Omnibus:</th>       <td> 0.108</td> <th>  Durbin-Watson:     </th> <td>   1.986</td>\n",
       "</tr>\n",
       "<tr>\n",
       "  <th>Prob(Omnibus):</th> <td> 0.948</td> <th>  Jarque-Bera (JB):  </th> <td>   0.139</td>\n",
       "</tr>\n",
       "<tr>\n",
       "  <th>Skew:</th>          <td> 0.003</td> <th>  Prob(JB):          </th> <td>   0.933</td>\n",
       "</tr>\n",
       "<tr>\n",
       "  <th>Kurtosis:</th>      <td> 2.975</td> <th>  Cond. No.          </th> <td>    1.01</td>\n",
       "</tr>\n",
       "</table><br/><br/>Notes:<br/>[1] Standard Errors assume that the covariance matrix of the errors is correctly specified."
      ],
      "text/latex": [
       "\\begin{center}\n",
       "\\begin{tabular}{lclc}\n",
       "\\toprule\n",
       "\\textbf{Dep. Variable:}    &        y         & \\textbf{  R-squared:         } &     0.775   \\\\\n",
       "\\textbf{Model:}            &       OLS        & \\textbf{  Adj. R-squared:    } &     0.775   \\\\\n",
       "\\textbf{Method:}           &  Least Squares   & \\textbf{  F-statistic:       } & 1.718e+04   \\\\\n",
       "\\textbf{Date:}             & Mon, 04 Nov 2024 & \\textbf{  Prob (F-statistic):} &     0.00    \\\\\n",
       "\\textbf{Time:}             &     02:53:04     & \\textbf{  Log-Likelihood:    } &   -3615.7   \\\\\n",
       "\\textbf{No. Observations:} &        5000      & \\textbf{  AIC:               } &     7235.   \\\\\n",
       "\\textbf{Df Residuals:}     &        4998      & \\textbf{  BIC:               } &     7248.   \\\\\n",
       "\\textbf{Df Model:}         &           1      & \\textbf{                     } &             \\\\\n",
       "\\textbf{Covariance Type:}  &    nonrobust     & \\textbf{                     } &             \\\\\n",
       "\\bottomrule\n",
       "\\end{tabular}\n",
       "\\begin{tabular}{lcccccc}\n",
       "               & \\textbf{coef} & \\textbf{std err} & \\textbf{t} & \\textbf{P$> |$t$|$} & \\textbf{[0.025} & \\textbf{0.975]}  \\\\\n",
       "\\midrule\n",
       "\\textbf{const} &       1.1244  &        0.007     &   159.401  &         0.000        &        1.111    &        1.138     \\\\\n",
       "\\textbf{x1}    &       0.9319  &        0.007     &   131.083  &         0.000        &        0.918    &        0.946     \\\\\n",
       "\\bottomrule\n",
       "\\end{tabular}\n",
       "\\begin{tabular}{lclc}\n",
       "\\textbf{Omnibus:}       &  0.108 & \\textbf{  Durbin-Watson:     } &    1.986  \\\\\n",
       "\\textbf{Prob(Omnibus):} &  0.948 & \\textbf{  Jarque-Bera (JB):  } &    0.139  \\\\\n",
       "\\textbf{Skew:}          &  0.003 & \\textbf{  Prob(JB):          } &    0.933  \\\\\n",
       "\\textbf{Kurtosis:}      &  2.975 & \\textbf{  Cond. No.          } &     1.01  \\\\\n",
       "\\bottomrule\n",
       "\\end{tabular}\n",
       "%\\caption{OLS Regression Results}\n",
       "\\end{center}\n",
       "\n",
       "Notes: \\newline\n",
       " [1] Standard Errors assume that the covariance matrix of the errors is correctly specified."
      ],
      "text/plain": [
       "<class 'statsmodels.iolib.summary.Summary'>\n",
       "\"\"\"\n",
       "                            OLS Regression Results                            \n",
       "==============================================================================\n",
       "Dep. Variable:                      y   R-squared:                       0.775\n",
       "Model:                            OLS   Adj. R-squared:                  0.775\n",
       "Method:                 Least Squares   F-statistic:                 1.718e+04\n",
       "Date:                Mon, 04 Nov 2024   Prob (F-statistic):               0.00\n",
       "Time:                        02:53:04   Log-Likelihood:                -3615.7\n",
       "No. Observations:                5000   AIC:                             7235.\n",
       "Df Residuals:                    4998   BIC:                             7248.\n",
       "Df Model:                           1                                         \n",
       "Covariance Type:            nonrobust                                         \n",
       "==============================================================================\n",
       "                 coef    std err          t      P>|t|      [0.025      0.975]\n",
       "------------------------------------------------------------------------------\n",
       "const          1.1244      0.007    159.401      0.000       1.111       1.138\n",
       "x1             0.9319      0.007    131.083      0.000       0.918       0.946\n",
       "==============================================================================\n",
       "Omnibus:                        0.108   Durbin-Watson:                   1.986\n",
       "Prob(Omnibus):                  0.948   Jarque-Bera (JB):                0.139\n",
       "Skew:                           0.003   Prob(JB):                        0.933\n",
       "Kurtosis:                       2.975   Cond. No.                         1.01\n",
       "==============================================================================\n",
       "\n",
       "Notes:\n",
       "[1] Standard Errors assume that the covariance matrix of the errors is correctly specified.\n",
       "\"\"\""
      ]
     },
     "execution_count": 233,
     "metadata": {},
     "output_type": "execute_result"
    }
   ],
   "source": [
    "fitted_model.summary()"
   ]
  },
  {
   "cell_type": "code",
   "execution_count": 238,
   "id": "b1d78472",
   "metadata": {
    "scrolled": true
   },
   "outputs": [
    {
     "data": {
      "text/plain": [
       "[<matplotlib.lines.Line2D at 0x166ea68d0>]"
      ]
     },
     "execution_count": 238,
     "metadata": {},
     "output_type": "execute_result"
    },
    {
     "data": {
      "image/png": "[encoded data removed]",
      "text/plain": [
       "<Figure size 640x480 with 1 Axes>"
      ]
     },
     "metadata": {},
     "output_type": "display_data"
    }
   ],
   "source": [
    "plt.scatter(X,y)\n",
    "plt.plot(X,y_predicted, c='red')"
   ]
  },
  {
   "cell_type": "code",
   "execution_count": 245,
   "id": "5692c3de",
   "metadata": {
    "scrolled": true
   },
   "outputs": [
    {
     "data": {
      "text/html": [
       "<table class=\"simpletable\">\n",
       "<caption>OLS Regression Results</caption>\n",
       "<tr>\n",
       "  <th>Dep. Variable:</th>            <td>y</td>        <th>  R-squared:         </th> <td>   0.775</td> \n",
       "</tr>\n",
       "<tr>\n",
       "  <th>Model:</th>                   <td>OLS</td>       <th>  Adj. R-squared:    </th> <td>   0.775</td> \n",
       "</tr>\n",
       "<tr>\n",
       "  <th>Method:</th>             <td>Least Squares</td>  <th>  F-statistic:       </th> <td>1.718e+04</td>\n",
       "</tr>\n",
       "<tr>\n",
       "  <th>Date:</th>             <td>Mon, 04 Nov 2024</td> <th>  Prob (F-statistic):</th>  <td>  0.00</td>  \n",
       "</tr>\n",
       "<tr>\n",
       "  <th>Time:</th>                 <td>03:46:34</td>     <th>  Log-Likelihood:    </th> <td> -3330.0</td> \n",
       "</tr>\n",
       "<tr>\n",
       "  <th>No. Observations:</th>      <td>  5000</td>      <th>  AIC:               </th> <td>   6664.</td> \n",
       "</tr>\n",
       "<tr>\n",
       "  <th>Df Residuals:</th>          <td>  4998</td>      <th>  BIC:               </th> <td>   6677.</td> \n",
       "</tr>\n",
       "<tr>\n",
       "  <th>Df Model:</th>              <td>     1</td>      <th>                     </th>     <td> </td>    \n",
       "</tr>\n",
       "<tr>\n",
       "  <th>Covariance Type:</th>      <td>nonrobust</td>    <th>                     </th>     <td> </td>    \n",
       "</tr>\n",
       "</table>\n",
       "<table class=\"simpletable\">\n",
       "<tr>\n",
       "    <td></td>       <th>coef</th>     <th>std err</th>      <th>t</th>      <th>P>|t|</th>  <th>[0.025</th>    <th>0.975]</th>  \n",
       "</tr>\n",
       "<tr>\n",
       "  <th>const</th> <td>   -0.9341</td> <td>    0.010</td> <td>  -95.628</td> <td> 0.000</td> <td>   -0.953</td> <td>   -0.915</td>\n",
       "</tr>\n",
       "<tr>\n",
       "  <th>x1</th>    <td>    0.8313</td> <td>    0.006</td> <td>  131.083</td> <td> 0.000</td> <td>    0.819</td> <td>    0.844</td>\n",
       "</tr>\n",
       "</table>\n",
       "<table class=\"simpletable\">\n",
       "<tr>\n",
       "  <th>Omnibus:</th>       <td> 1.532</td> <th>  Durbin-Watson:     </th> <td>   1.981</td>\n",
       "</tr>\n",
       "<tr>\n",
       "  <th>Prob(Omnibus):</th> <td> 0.465</td> <th>  Jarque-Bera (JB):  </th> <td>   1.480</td>\n",
       "</tr>\n",
       "<tr>\n",
       "  <th>Skew:</th>          <td>-0.038</td> <th>  Prob(JB):          </th> <td>   0.477</td>\n",
       "</tr>\n",
       "<tr>\n",
       "  <th>Kurtosis:</th>      <td> 3.038</td> <th>  Cond. No.          </th> <td>    2.86</td>\n",
       "</tr>\n",
       "</table><br/><br/>Notes:<br/>[1] Standard Errors assume that the covariance matrix of the errors is correctly specified."
      ],
      "text/latex": [
       "\\begin{center}\n",
       "\\begin{tabular}{lclc}\n",
       "\\toprule\n",
       "\\textbf{Dep. Variable:}    &        y         & \\textbf{  R-squared:         } &     0.775   \\\\\n",
       "\\textbf{Model:}            &       OLS        & \\textbf{  Adj. R-squared:    } &     0.775   \\\\\n",
       "\\textbf{Method:}           &  Least Squares   & \\textbf{  F-statistic:       } & 1.718e+04   \\\\\n",
       "\\textbf{Date:}             & Mon, 04 Nov 2024 & \\textbf{  Prob (F-statistic):} &     0.00    \\\\\n",
       "\\textbf{Time:}             &     03:46:34     & \\textbf{  Log-Likelihood:    } &   -3330.0   \\\\\n",
       "\\textbf{No. Observations:} &        5000      & \\textbf{  AIC:               } &     6664.   \\\\\n",
       "\\textbf{Df Residuals:}     &        4998      & \\textbf{  BIC:               } &     6677.   \\\\\n",
       "\\textbf{Df Model:}         &           1      & \\textbf{                     } &             \\\\\n",
       "\\textbf{Covariance Type:}  &    nonrobust     & \\textbf{                     } &             \\\\\n",
       "\\bottomrule\n",
       "\\end{tabular}\n",
       "\\begin{tabular}{lcccccc}\n",
       "               & \\textbf{coef} & \\textbf{std err} & \\textbf{t} & \\textbf{P$> |$t$|$} & \\textbf{[0.025} & \\textbf{0.975]}  \\\\\n",
       "\\midrule\n",
       "\\textbf{const} &      -0.9341  &        0.010     &   -95.628  &         0.000        &       -0.953    &       -0.915     \\\\\n",
       "\\textbf{x1}    &       0.8313  &        0.006     &   131.083  &         0.000        &        0.819    &        0.844     \\\\\n",
       "\\bottomrule\n",
       "\\end{tabular}\n",
       "\\begin{tabular}{lclc}\n",
       "\\textbf{Omnibus:}       &  1.532 & \\textbf{  Durbin-Watson:     } &    1.981  \\\\\n",
       "\\textbf{Prob(Omnibus):} &  0.465 & \\textbf{  Jarque-Bera (JB):  } &    1.480  \\\\\n",
       "\\textbf{Skew:}          & -0.038 & \\textbf{  Prob(JB):          } &    0.477  \\\\\n",
       "\\textbf{Kurtosis:}      &  3.038 & \\textbf{  Cond. No.          } &     2.86  \\\\\n",
       "\\bottomrule\n",
       "\\end{tabular}\n",
       "%\\caption{OLS Regression Results}\n",
       "\\end{center}\n",
       "\n",
       "Notes: \\newline\n",
       " [1] Standard Errors assume that the covariance matrix of the errors is correctly specified."
      ],
      "text/plain": [
       "<class 'statsmodels.iolib.summary.Summary'>\n",
       "\"\"\"\n",
       "                            OLS Regression Results                            \n",
       "==============================================================================\n",
       "Dep. Variable:                      y   R-squared:                       0.775\n",
       "Model:                            OLS   Adj. R-squared:                  0.775\n",
       "Method:                 Least Squares   F-statistic:                 1.718e+04\n",
       "Date:                Mon, 04 Nov 2024   Prob (F-statistic):               0.00\n",
       "Time:                        03:46:34   Log-Likelihood:                -3330.0\n",
       "No. Observations:                5000   AIC:                             6664.\n",
       "Df Residuals:                    4998   BIC:                             6677.\n",
       "Df Model:                           1                                         \n",
       "Covariance Type:            nonrobust                                         \n",
       "==============================================================================\n",
       "                 coef    std err          t      P>|t|      [0.025      0.975]\n",
       "------------------------------------------------------------------------------\n",
       "const         -0.9341      0.010    -95.628      0.000      -0.953      -0.915\n",
       "x1             0.8313      0.006    131.083      0.000       0.819       0.844\n",
       "==============================================================================\n",
       "Omnibus:                        1.532   Durbin-Watson:                   1.981\n",
       "Prob(Omnibus):                  0.465   Jarque-Bera (JB):                1.480\n",
       "Skew:                          -0.038   Prob(JB):                        0.477\n",
       "Kurtosis:                       3.038   Cond. No.                         2.86\n",
       "==============================================================================\n",
       "\n",
       "Notes:\n",
       "[1] Standard Errors assume that the covariance matrix of the errors is correctly specified.\n",
       "\"\"\""
      ]
     },
     "execution_count": 245,
     "metadata": {},
     "output_type": "execute_result"
    }
   ],
   "source": [
    "# regress X on Y\n",
    "\n",
    "y_add_constant = sm.add_constant(y)\n",
    "\n",
    "# create model\n",
    "model = sm.OLS(X, y_add_constant).fit()\n",
    "model.summary()\n"
   ]
  },
  {
   "cell_type": "code",
   "execution_count": 247,
   "id": "0c6e7c79",
   "metadata": {},
   "outputs": [],
   "source": [
    "x_predicted = model.predict(y_add_constant)  # predicted x"
   ]
  },
  {
   "cell_type": "code",
   "execution_count": 250,
   "id": "28a90006",
   "metadata": {
    "scrolled": true
   },
   "outputs": [
    {
     "data": {
      "text/plain": [
       "[<matplotlib.lines.Line2D at 0x169284750>]"
      ]
     },
     "execution_count": 250,
     "metadata": {},
     "output_type": "execute_result"
    },
    {
     "data": {
      "image/png": "[encoded data removed]",
      "text/plain": [
       "<Figure size 640x480 with 1 Axes>"
      ]
     },
     "metadata": {},
     "output_type": "display_data"
    }
   ],
   "source": [
    "# plot\n",
    "plt.scatter(y, X)\n",
    "plt.plot(y, x_predicted, c='r')"
   ]
  },
  {
   "cell_type": "code",
   "execution_count": null,
   "id": "624b90f6",
   "metadata": {},
   "outputs": [],
   "source": []
  },
  {
   "cell_type": "code",
   "execution_count": 284,
   "id": "40edc7d7",
   "metadata": {},
   "outputs": [],
   "source": [
    "# control example, P46\n",
    "\n",
    "a = np.random.normal(size=n_samples)\n",
    "x = 2*a + 0.5*np.random.normal(size=n_samples)\n",
    "y = 2*a + 0.5*np.random.normal(size=n_samples)\n",
    "b = 1.5*x + 0.75*y"
   ]
  },
  {
   "cell_type": "code",
   "execution_count": 298,
   "id": "47668e3d",
   "metadata": {},
   "outputs": [
    {
     "name": "stdout",
     "output_type": "stream",
     "text": [
      "                  Results: Ordinary least squares\n",
      "===================================================================\n",
      "Model:              OLS              Adj. R-squared:     0.884     \n",
      "Dependent Variable: y                AIC:                10466.6185\n",
      "Date:               2024-11-04 05:48 BIC:                10479.6528\n",
      "No. Observations:   5000             Log-Likelihood:     -5231.3   \n",
      "Df Model:           1                F-statistic:        3.826e+04 \n",
      "Df Residuals:       4998             Prob (F-statistic): 0.00      \n",
      "R-squared:          0.884            Scale:              0.47476   \n",
      "----------------------------------------------------------------------\n",
      "         Coef.     Std.Err.       t        P>|t|      [0.025    0.975]\n",
      "----------------------------------------------------------------------\n",
      "const    0.0105      0.0097      1.0759    0.2820    -0.0086    0.0296\n",
      "x1       0.9447      0.0048    195.5916    0.0000     0.9352    0.9541\n",
      "-------------------------------------------------------------------\n",
      "Omnibus:                1.143        Durbin-Watson:           1.999\n",
      "Prob(Omnibus):          0.565        Jarque-Bera (JB):        1.174\n",
      "Skew:                   0.035        Prob(JB):                0.556\n",
      "Kurtosis:               2.973        Condition No.:           2    \n",
      "===================================================================\n",
      "Notes:\n",
      "[1] Standard Errors assume that the covariance matrix of the errors\n",
      "is correctly specified.\n",
      "\n",
      "\n",
      "\n",
      "                 Results: Ordinary least squares\n",
      "==================================================================\n",
      "Model:              OLS              Adj. R-squared:     0.939    \n",
      "Dependent Variable: y                AIC:                7269.3461\n",
      "Date:               2024-11-04 05:48 BIC:                7288.8977\n",
      "No. Observations:   5000             Log-Likelihood:     -3631.7  \n",
      "Df Model:           2                F-statistic:        3.850e+04\n",
      "Df Residuals:       4997             Prob (F-statistic): 0.00     \n",
      "R-squared:          0.939            Scale:              0.25042  \n",
      "---------------------------------------------------------------------\n",
      "         Coef.     Std.Err.       t       P>|t|      [0.025    0.975]\n",
      "---------------------------------------------------------------------\n",
      "const    0.0081      0.0071     1.1508    0.2499    -0.0057    0.0220\n",
      "x1       0.0231      0.0142     1.6246    0.1043    -0.0048    0.0509\n",
      "x2       1.9614      0.0293    66.9204    0.0000     1.9039    2.0189\n",
      "------------------------------------------------------------------\n",
      "Omnibus:               2.798        Durbin-Watson:           2.032\n",
      "Prob(Omnibus):         0.247        Jarque-Bera (JB):        2.685\n",
      "Skew:                  0.021        Prob(JB):                0.261\n",
      "Kurtosis:              2.895        Condition No.:           10   \n",
      "==================================================================\n",
      "Notes:\n",
      "[1] Standard Errors assume that the covariance matrix of the\n",
      "errors is correctly specified.\n",
      "\n",
      "\n",
      "\n",
      "                   Results: Ordinary least squares\n",
      "=====================================================================\n",
      "Model:              OLS              Adj. R-squared:     1.000       \n",
      "Dependent Variable: y                AIC:                -325402.9988\n",
      "Date:               2024-11-04 05:48 BIC:                -325383.4472\n",
      "No. Observations:   5000             Log-Likelihood:     1.6270e+05  \n",
      "Df Model:           2                F-statistic:        3.224e+33   \n",
      "Df Residuals:       4997             Prob (F-statistic): 0.00        \n",
      "R-squared:          1.000            Scale:              3.1851e-30  \n",
      "---------------------------------------------------------------------\n",
      "       Coef.  Std.Err.            t            P>|t|   [0.025  0.975]\n",
      "---------------------------------------------------------------------\n",
      "const  0.0000   0.0000                  2.3366 0.0195  0.0000  0.0000\n",
      "x1    -2.0000   0.0000 -18414915299769504.0000 0.0000 -2.0000 -2.0000\n",
      "x2     1.3333   0.0000  27294407774137452.0000 0.0000  1.3333  1.3333\n",
      "---------------------------------------------------------------------\n",
      "Omnibus:                16.446        Durbin-Watson:           2.060 \n",
      "Prob(Omnibus):          0.000         Jarque-Bera (JB):        21.269\n",
      "Skew:                   -0.009        Prob(JB):                0.000 \n",
      "Kurtosis:               3.319         Condition No.:           23    \n",
      "=====================================================================\n",
      "Notes:\n",
      "[1] Standard Errors assume that the covariance matrix of the errors\n",
      "is correctly specified.\n",
      "\n",
      "\n",
      "\n",
      "                   Results: Ordinary least squares\n",
      "=====================================================================\n",
      "Model:              OLS              Adj. R-squared:     1.000       \n",
      "Dependent Variable: y                AIC:                -319397.0430\n",
      "Date:               2024-11-04 05:48 BIC:                -319370.9743\n",
      "No. Observations:   5000             Log-Likelihood:     1.5970e+05  \n",
      "Df Model:           3                F-statistic:        6.467e+32   \n",
      "Df Residuals:       4996             Prob (F-statistic): 0.00        \n",
      "R-squared:          1.000            Scale:              1.0585e-29  \n",
      "---------------------------------------------------------------------\n",
      "        Coef.  Std.Err.           t            P>|t|   [0.025  0.975]\n",
      "---------------------------------------------------------------------\n",
      "const  -0.0000   0.0000                -3.8450 0.0001 -0.0000 -0.0000\n",
      "x1     -2.0000   0.0000 -9627170873520990.0000 0.0000 -2.0000 -2.0000\n",
      "x2      0.0000   0.0000                25.8093 0.0000  0.0000  0.0000\n",
      "x3      1.3333   0.0000 10872742365546304.0000 0.0000  1.3333  1.3333\n",
      "---------------------------------------------------------------------\n",
      "Omnibus:                8.098         Durbin-Watson:            2.062\n",
      "Prob(Omnibus):          0.017         Jarque-Bera (JB):         8.300\n",
      "Skew:                   0.076         Prob(JB):                 0.016\n",
      "Kurtosis:               3.129         Condition No.:            33   \n",
      "=====================================================================\n",
      "Notes:\n",
      "[1] Standard Errors assume that the covariance matrix of the errors\n",
      "is correctly specified.\n",
      "\n",
      "\n",
      "\n"
     ]
    }
   ],
   "source": [
    "variants = [\n",
    "    [x],\n",
    "    [x,a],\n",
    "    [x,b],\n",
    "    [x,a,b]\n",
    "]\n",
    "\n",
    "# fit iteratively\n",
    "\n",
    "for variant in variants:\n",
    "    X_constant = sm.add_constant(np.stack(variant).transpose())\n",
    "    model = sm.OLS(y,X_constant).fit()\n",
    "    print(model.summary2())\n",
    "    print('\\n\\n')\n",
    "    \n",
    "    "
   ]
  },
  {
   "cell_type": "code",
   "execution_count": 295,
   "id": "521f5fbd",
   "metadata": {},
   "outputs": [
    {
     "data": {
      "text/html": [
       "<table class=\"simpletable\">\n",
       "<tr>\n",
       "        <td>Model:</td>               <td>OLS</td>         <td>Adj. R-squared:</td>       <td>1.000</td>   \n",
       "</tr>\n",
       "<tr>\n",
       "  <td>Dependent Variable:</td>         <td>y</td>               <td>AIC:</td>         <td>-319397.0430</td>\n",
       "</tr>\n",
       "<tr>\n",
       "         <td>Date:</td>        <td>2024-11-04 05:48</td>        <td>BIC:</td>         <td>-319370.9743</td>\n",
       "</tr>\n",
       "<tr>\n",
       "   <td>No. Observations:</td>        <td>5000</td>         <td>Log-Likelihood:</td>    <td>1.5970e+05</td> \n",
       "</tr>\n",
       "<tr>\n",
       "       <td>Df Model:</td>              <td>3</td>           <td>F-statistic:</td>       <td>6.467e+32</td> \n",
       "</tr>\n",
       "<tr>\n",
       "     <td>Df Residuals:</td>          <td>4996</td>       <td>Prob (F-statistic):</td>     <td>0.00</td>    \n",
       "</tr>\n",
       "<tr>\n",
       "      <td>R-squared:</td>            <td>1.000</td>            <td>Scale:</td>         <td>1.0585e-29</td> \n",
       "</tr>\n",
       "</table>\n",
       "<table class=\"simpletable\">\n",
       "<tr>\n",
       "    <td></td>     <th>Coef.</th>  <th>Std.Err.</th>            <th>t</th>            <th>P>|t|</th> <th>[0.025</th>  <th>0.975]</th> \n",
       "</tr>\n",
       "<tr>\n",
       "  <th>const</th> <td>-0.0000</td>  <td>0.0000</td>          <td>-3.8450</td>        <td>0.0001</td> <td>-0.0000</td> <td>-0.0000</td>\n",
       "</tr>\n",
       "<tr>\n",
       "  <th>x1</th>    <td>-2.0000</td>  <td>0.0000</td>  <td>-9627170873520990.0000</td> <td>0.0000</td> <td>-2.0000</td> <td>-2.0000</td>\n",
       "</tr>\n",
       "<tr>\n",
       "  <th>x2</th>    <td>0.0000</td>   <td>0.0000</td>          <td>25.8093</td>        <td>0.0000</td> <td>0.0000</td>  <td>0.0000</td> \n",
       "</tr>\n",
       "<tr>\n",
       "  <th>x3</th>    <td>1.3333</td>   <td>0.0000</td>  <td>10872742365546304.0000</td> <td>0.0000</td> <td>1.3333</td>  <td>1.3333</td> \n",
       "</tr>\n",
       "</table>\n",
       "<table class=\"simpletable\">\n",
       "<tr>\n",
       "     <td>Omnibus:</td>    <td>8.098</td>  <td>Durbin-Watson:</td>   <td>2.062</td>\n",
       "</tr>\n",
       "<tr>\n",
       "  <td>Prob(Omnibus):</td> <td>0.017</td> <td>Jarque-Bera (JB):</td> <td>8.300</td>\n",
       "</tr>\n",
       "<tr>\n",
       "       <td>Skew:</td>     <td>0.076</td>     <td>Prob(JB):</td>     <td>0.016</td>\n",
       "</tr>\n",
       "<tr>\n",
       "     <td>Kurtosis:</td>   <td>3.129</td>  <td>Condition No.:</td>    <td>33</td>  \n",
       "</tr>\n",
       "</table><br/>\n",
       "Notes:<br/>\n",
       "[1] Standard Errors assume that the covariance matrix of the errors is correctly specified."
      ],
      "text/latex": [
       "\\begin{table}\n",
       "\\caption{Results: Ordinary least squares}\n",
       "\\label{}\n",
       "\\begin{center}\n",
       "\\begin{tabular}{llll}\n",
       "\\hline\n",
       "Model:              & OLS              & Adj. R-squared:     & 1.000         \\\\\n",
       "Dependent Variable: & y                & AIC:                & -319397.0430  \\\\\n",
       "Date:               & 2024-11-04 05:48 & BIC:                & -319370.9743  \\\\\n",
       "No. Observations:   & 5000             & Log-Likelihood:     & 1.5970e+05    \\\\\n",
       "Df Model:           & 3                & F-statistic:        & 6.467e+32     \\\\\n",
       "Df Residuals:       & 4996             & Prob (F-statistic): & 0.00          \\\\\n",
       "R-squared:          & 1.000            & Scale:              & 1.0585e-29    \\\\\n",
       "\\hline\n",
       "\\end{tabular}\n",
       "\\end{center}\n",
       "\n",
       "\\begin{center}\n",
       "\\begin{tabular}{lrrrrrr}\n",
       "\\hline\n",
       "      &   Coef. & Std.Err. &                      t & P$> |$t$|$ &  [0.025 &  0.975]  \\\\\n",
       "\\hline\n",
       "const & -0.0000 &   0.0000 &                -3.8450 &      0.0001 & -0.0000 & -0.0000  \\\\\n",
       "x1    & -2.0000 &   0.0000 & -9627170873520990.0000 &      0.0000 & -2.0000 & -2.0000  \\\\\n",
       "x2    &  0.0000 &   0.0000 &                25.8093 &      0.0000 &  0.0000 &  0.0000  \\\\\n",
       "x3    &  1.3333 &   0.0000 & 10872742365546304.0000 &      0.0000 &  1.3333 &  1.3333  \\\\\n",
       "\\hline\n",
       "\\end{tabular}\n",
       "\\end{center}\n",
       "\n",
       "\\begin{center}\n",
       "\\begin{tabular}{llll}\n",
       "\\hline\n",
       "Omnibus:       & 8.098 & Durbin-Watson:    & 2.062  \\\\\n",
       "Prob(Omnibus): & 0.017 & Jarque-Bera (JB): & 8.300  \\\\\n",
       "Skew:          & 0.076 & Prob(JB):         & 0.016  \\\\\n",
       "Kurtosis:      & 3.129 & Condition No.:    & 33     \\\\\n",
       "\\hline\n",
       "\\end{tabular}\n",
       "\\end{center}\n",
       "\\end{table}\n",
       "\\bigskip\n",
       "Notes: \\newline \n",
       "[1] Standard Errors assume that the covariance matrix of the errors is correctly specified."
      ],
      "text/plain": [
       "<class 'statsmodels.iolib.summary2.Summary'>\n",
       "\"\"\"\n",
       "                   Results: Ordinary least squares\n",
       "=====================================================================\n",
       "Model:              OLS              Adj. R-squared:     1.000       \n",
       "Dependent Variable: y                AIC:                -319397.0430\n",
       "Date:               2024-11-04 05:48 BIC:                -319370.9743\n",
       "No. Observations:   5000             Log-Likelihood:     1.5970e+05  \n",
       "Df Model:           3                F-statistic:        6.467e+32   \n",
       "Df Residuals:       4996             Prob (F-statistic): 0.00        \n",
       "R-squared:          1.000            Scale:              1.0585e-29  \n",
       "---------------------------------------------------------------------\n",
       "        Coef.  Std.Err.           t            P>|t|   [0.025  0.975]\n",
       "---------------------------------------------------------------------\n",
       "const  -0.0000   0.0000                -3.8450 0.0001 -0.0000 -0.0000\n",
       "x1     -2.0000   0.0000 -9627170873520990.0000 0.0000 -2.0000 -2.0000\n",
       "x2      0.0000   0.0000                25.8093 0.0000  0.0000  0.0000\n",
       "x3      1.3333   0.0000 10872742365546304.0000 0.0000  1.3333  1.3333\n",
       "---------------------------------------------------------------------\n",
       "Omnibus:                8.098         Durbin-Watson:            2.062\n",
       "Prob(Omnibus):          0.017         Jarque-Bera (JB):         8.300\n",
       "Skew:                   0.076         Prob(JB):                 0.016\n",
       "Kurtosis:               3.129         Condition No.:            33   \n",
       "=====================================================================\n",
       "Notes:\n",
       "[1] Standard Errors assume that the covariance matrix of the errors\n",
       "is correctly specified.\n",
       "\"\"\""
      ]
     },
     "execution_count": 295,
     "metadata": {},
     "output_type": "execute_result"
    }
   ],
   "source": [
    "model.summary2()"
   ]
  },
  {
   "cell_type": "code",
   "execution_count": 290,
   "id": "36c709f1",
   "metadata": {},
   "outputs": [
    {
     "data": {
      "text/plain": [
       "array([[ True,  True],\n",
       "       [ True,  True],\n",
       "       [ True,  True],\n",
       "       ...,\n",
       "       [ True,  True],\n",
       "       [ True,  True],\n",
       "       [ True,  True]])"
      ]
     },
     "execution_count": 290,
     "metadata": {},
     "output_type": "execute_result"
    }
   ],
   "source": [
    "np.stack([x,a]).transpose() # stack在一起後，要從 X1-1,X1-2,X1-3 轉為一個一個的 X1-1,X2-1,X3-1"
   ]
  },
  {
   "cell_type": "code",
   "execution_count": null,
   "id": "3b9433d9",
   "metadata": {},
   "outputs": [],
   "source": []
  },
  {
   "cell_type": "code",
   "execution_count": null,
   "id": "782ddfec",
   "metadata": {},
   "outputs": [],
   "source": []
  },
  {
   "cell_type": "code",
   "execution_count": 283,
   "id": "05b43697",
   "metadata": {},
   "outputs": [
    {
     "data": {
      "text/plain": [
       "array([[[ 1,  2,  3],\n",
       "        [ 4,  5,  6]],\n",
       "\n",
       "       [[ 7,  8,  9],\n",
       "        [10, 11, 12]]])"
      ]
     },
     "execution_count": 283,
     "metadata": {},
     "output_type": "execute_result"
    }
   ],
   "source": [
    "a = [[1,2,3],  # shape = (2,3)\n",
    "     [4,5,6]]\n",
    "b = [[7,8,9],\n",
    "     [10,11,12]]\n",
    "np.stack([a,b],axis=0)\n",
    "# 新的 array 的 shape 為 (2[new],2,3)\n",
    "# 在 array axis 0 新增一個位置，等待 b 的部分來填充，原本的 axis 0之後都升級\n",
    "# a = [[1,2,3], \n",
    "#     [4,5,6]] 變成 \n",
    "# a = [[[1,2,3], \n",
    "#     [4,5,6]], 等待b的部分]"
   ]
  },
  {
   "cell_type": "code",
   "execution_count": 282,
   "id": "129c0bf9",
   "metadata": {},
   "outputs": [
    {
     "data": {
      "text/plain": [
       "array([[[ 1,  2,  3],\n",
       "        [ 7,  8,  9]],\n",
       "\n",
       "       [[ 4,  5,  6],\n",
       "        [10, 11, 12]]])"
      ]
     },
     "execution_count": 282,
     "metadata": {},
     "output_type": "execute_result"
    }
   ],
   "source": [
    "np.stack([a,b],axis=1) \n",
    "# 新的 array 的 shape 為 (2,2[new],3)\n",
    "# 在 array axis 1 新增一個位置，等待 b 的部分來填充，原本的 axis 1之後都升級\n",
    "# a = [[1,2,3], \n",
    "#     [4,5,6]] 變成 \n",
    "# a = [[[1,2,3],等待b的部分], \n",
    "#     [[4,5,6]],等待b的部分] \n"
   ]
  },
  {
   "cell_type": "code",
   "execution_count": 279,
   "id": "8f5597eb",
   "metadata": {},
   "outputs": [
    {
     "data": {
      "text/plain": [
       "array([[[ 1,  7],\n",
       "        [ 2,  8],\n",
       "        [ 3,  9]],\n",
       "\n",
       "       [[ 4, 10],\n",
       "        [ 5, 11],\n",
       "        [ 6, 12]]])"
      ]
     },
     "execution_count": 279,
     "metadata": {},
     "output_type": "execute_result"
    }
   ],
   "source": [
    "np.stack([a,b],axis=2)\n",
    "# 新的 array 的 shape 為 (2,3,2[new])\n",
    "# 在 array axis 2 新增一個位置，等待 b 的部分來填充，原本的 axis 2之後都升級\n",
    "# a = [[1,2,3], \n",
    "#     [4,5,6]] 變成 \n",
    "# a = [[1,等待b的部分],[2,等待b的部分],[3,等待b的部分],\n",
    "#     [[4,等待b的部分],[5,等待b的部分],[6,等待b的部分]]"
   ]
  },
  {
   "cell_type": "code",
   "execution_count": 260,
   "id": "36fd5c93",
   "metadata": {},
   "outputs": [
    {
     "data": {
      "text/html": [
       "<table class=\"simpletable\">\n",
       "<caption>OLS Regression Results</caption>\n",
       "<tr>\n",
       "  <th>Dep. Variable:</th>            <td>y</td>        <th>  R-squared (uncentered):</th>      <td>   0.884</td> \n",
       "</tr>\n",
       "<tr>\n",
       "  <th>Model:</th>                   <td>OLS</td>       <th>  Adj. R-squared (uncentered):</th> <td>   0.884</td> \n",
       "</tr>\n",
       "<tr>\n",
       "  <th>Method:</th>             <td>Least Squares</td>  <th>  F-statistic:       </th>          <td>3.806e+04</td>\n",
       "</tr>\n",
       "<tr>\n",
       "  <th>Date:</th>             <td>Mon, 04 Nov 2024</td> <th>  Prob (F-statistic):</th>           <td>  0.00</td>  \n",
       "</tr>\n",
       "<tr>\n",
       "  <th>Time:</th>                 <td>04:44:43</td>     <th>  Log-Likelihood:    </th>          <td> -5263.6</td> \n",
       "</tr>\n",
       "<tr>\n",
       "  <th>No. Observations:</th>      <td>  5000</td>      <th>  AIC:               </th>          <td>1.053e+04</td>\n",
       "</tr>\n",
       "<tr>\n",
       "  <th>Df Residuals:</th>          <td>  4999</td>      <th>  BIC:               </th>          <td>1.054e+04</td>\n",
       "</tr>\n",
       "<tr>\n",
       "  <th>Df Model:</th>              <td>     1</td>      <th>                     </th>              <td> </td>    \n",
       "</tr>\n",
       "<tr>\n",
       "  <th>Covariance Type:</th>      <td>nonrobust</td>    <th>                     </th>              <td> </td>    \n",
       "</tr>\n",
       "</table>\n",
       "<table class=\"simpletable\">\n",
       "<tr>\n",
       "   <td></td>     <th>coef</th>     <th>std err</th>      <th>t</th>      <th>P>|t|</th>  <th>[0.025</th>    <th>0.975]</th>  \n",
       "</tr>\n",
       "<tr>\n",
       "  <th>x1</th> <td>    0.9343</td> <td>    0.005</td> <td>  195.102</td> <td> 0.000</td> <td>    0.925</td> <td>    0.944</td>\n",
       "</tr>\n",
       "</table>\n",
       "<table class=\"simpletable\">\n",
       "<tr>\n",
       "  <th>Omnibus:</th>       <td> 0.041</td> <th>  Durbin-Watson:     </th> <td>   2.012</td>\n",
       "</tr>\n",
       "<tr>\n",
       "  <th>Prob(Omnibus):</th> <td> 0.980</td> <th>  Jarque-Bera (JB):  </th> <td>   0.058</td>\n",
       "</tr>\n",
       "<tr>\n",
       "  <th>Skew:</th>          <td> 0.005</td> <th>  Prob(JB):          </th> <td>   0.972</td>\n",
       "</tr>\n",
       "<tr>\n",
       "  <th>Kurtosis:</th>      <td> 2.987</td> <th>  Cond. No.          </th> <td>    1.00</td>\n",
       "</tr>\n",
       "</table><br/><br/>Notes:<br/>[1] R² is computed without centering (uncentered) since the model does not contain a constant.<br/>[2] Standard Errors assume that the covariance matrix of the errors is correctly specified."
      ],
      "text/latex": [
       "\\begin{center}\n",
       "\\begin{tabular}{lclc}\n",
       "\\toprule\n",
       "\\textbf{Dep. Variable:}    &        y         & \\textbf{  R-squared (uncentered):}      &     0.884   \\\\\n",
       "\\textbf{Model:}            &       OLS        & \\textbf{  Adj. R-squared (uncentered):} &     0.884   \\\\\n",
       "\\textbf{Method:}           &  Least Squares   & \\textbf{  F-statistic:       }          & 3.806e+04   \\\\\n",
       "\\textbf{Date:}             & Mon, 04 Nov 2024 & \\textbf{  Prob (F-statistic):}          &     0.00    \\\\\n",
       "\\textbf{Time:}             &     04:44:43     & \\textbf{  Log-Likelihood:    }          &   -5263.6   \\\\\n",
       "\\textbf{No. Observations:} &        5000      & \\textbf{  AIC:               }          & 1.053e+04   \\\\\n",
       "\\textbf{Df Residuals:}     &        4999      & \\textbf{  BIC:               }          & 1.054e+04   \\\\\n",
       "\\textbf{Df Model:}         &           1      & \\textbf{                     }          &             \\\\\n",
       "\\textbf{Covariance Type:}  &    nonrobust     & \\textbf{                     }          &             \\\\\n",
       "\\bottomrule\n",
       "\\end{tabular}\n",
       "\\begin{tabular}{lcccccc}\n",
       "            & \\textbf{coef} & \\textbf{std err} & \\textbf{t} & \\textbf{P$> |$t$|$} & \\textbf{[0.025} & \\textbf{0.975]}  \\\\\n",
       "\\midrule\n",
       "\\textbf{x1} &       0.9343  &        0.005     &   195.102  &         0.000        &        0.925    &        0.944     \\\\\n",
       "\\bottomrule\n",
       "\\end{tabular}\n",
       "\\begin{tabular}{lclc}\n",
       "\\textbf{Omnibus:}       &  0.041 & \\textbf{  Durbin-Watson:     } &    2.012  \\\\\n",
       "\\textbf{Prob(Omnibus):} &  0.980 & \\textbf{  Jarque-Bera (JB):  } &    0.058  \\\\\n",
       "\\textbf{Skew:}          &  0.005 & \\textbf{  Prob(JB):          } &    0.972  \\\\\n",
       "\\textbf{Kurtosis:}      &  2.987 & \\textbf{  Cond. No.          } &     1.00  \\\\\n",
       "\\bottomrule\n",
       "\\end{tabular}\n",
       "%\\caption{OLS Regression Results}\n",
       "\\end{center}\n",
       "\n",
       "Notes: \\newline\n",
       " [1] R² is computed without centering (uncentered) since the model does not contain a constant. \\newline\n",
       " [2] Standard Errors assume that the covariance matrix of the errors is correctly specified."
      ],
      "text/plain": [
       "<class 'statsmodels.iolib.summary.Summary'>\n",
       "\"\"\"\n",
       "                                 OLS Regression Results                                \n",
       "=======================================================================================\n",
       "Dep. Variable:                      y   R-squared (uncentered):                   0.884\n",
       "Model:                            OLS   Adj. R-squared (uncentered):              0.884\n",
       "Method:                 Least Squares   F-statistic:                          3.806e+04\n",
       "Date:                Mon, 04 Nov 2024   Prob (F-statistic):                        0.00\n",
       "Time:                        04:44:43   Log-Likelihood:                         -5263.6\n",
       "No. Observations:                5000   AIC:                                  1.053e+04\n",
       "Df Residuals:                    4999   BIC:                                  1.054e+04\n",
       "Df Model:                           1                                                  \n",
       "Covariance Type:            nonrobust                                                  \n",
       "==============================================================================\n",
       "                 coef    std err          t      P>|t|      [0.025      0.975]\n",
       "------------------------------------------------------------------------------\n",
       "x1             0.9343      0.005    195.102      0.000       0.925       0.944\n",
       "==============================================================================\n",
       "Omnibus:                        0.041   Durbin-Watson:                   2.012\n",
       "Prob(Omnibus):                  0.980   Jarque-Bera (JB):                0.058\n",
       "Skew:                           0.005   Prob(JB):                        0.972\n",
       "Kurtosis:                       2.987   Cond. No.                         1.00\n",
       "==============================================================================\n",
       "\n",
       "Notes:\n",
       "[1] R² is computed without centering (uncentered) since the model does not contain a constant.\n",
       "[2] Standard Errors assume that the covariance matrix of the errors is correctly specified.\n",
       "\"\"\""
      ]
     },
     "execution_count": 260,
     "metadata": {},
     "output_type": "execute_result"
    }
   ],
   "source": [
    "sm.OLS(y,x.transpose()).fit().summary()"
   ]
  }
 ],
 "metadata": {
  "kernelspec": {
   "display_name": "Python 3 (ipykernel)",
   "language": "python",
   "name": "python3"
  },
  "language_info": {
   "codemirror_mode": {
    "name": "ipython",
    "version": 3
   },
   "file_extension": ".py",
   "mimetype": "text/x-python",
   "name": "python",
   "nbconvert_exporter": "python",
   "pygments_lexer": "ipython3",
   "version": "3.11.7"
  }
 },
 "nbformat": 4,
 "nbformat_minor": 5
}
